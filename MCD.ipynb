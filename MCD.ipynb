{
  "nbformat": 4,
  "nbformat_minor": 0,
  "metadata": {
    "colab": {
      "provenance": [],
      "authorship_tag": "ABX9TyOENXy38rbqLueD1S+u9e6R",
      "include_colab_link": true
    },
    "kernelspec": {
      "name": "python3",
      "display_name": "Python 3"
    },
    "language_info": {
      "name": "python"
    }
  },
  "cells": [
    {
      "cell_type": "markdown",
      "metadata": {
        "id": "view-in-github",
        "colab_type": "text"
      },
      "source": [
        "<a href=\"https://colab.research.google.com/github/andreavnessa/MaximoComunDivisor/blob/main/MCD.ipynb\" target=\"_parent\"><img src=\"https://colab.research.google.com/assets/colab-badge.svg\" alt=\"Open In Colab\"/></a>"
      ]
    },
    {
      "cell_type": "code",
      "execution_count": null,
      "metadata": {
        "id": "7B2CDHR6zdvQ"
      },
      "outputs": [],
      "source": [
        "def maximoComunDivisor(a,b):\n",
        "    temporal = 0\n",
        "    while b != 0:\n",
        "        temporal = b\n",
        "        b = a % b\n",
        "        a = temporal\n",
        "    return a\n",
        "\n",
        "def mcdRecursivo(a,b):\n",
        "    if (b == 0):\n",
        "        return a\n",
        "    return mcdRecursivo(b, a % b)\n",
        "\n",
        "a = 20\n",
        "b = 6\n",
        "resultado = maximoComunDivisor(a,b)\n",
        "resultRecursivo = mcdRecursivo(a,b)\n",
        "print(f'El maximo comun divisor de  {a} y {b} es {resultado}.  manera recursiva es {resultRecursivo}')"
      ]
    }
  ]
}